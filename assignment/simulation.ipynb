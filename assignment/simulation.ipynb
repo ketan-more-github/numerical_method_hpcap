{
 "cells": [
  {
   "cell_type": "code",
   "execution_count": 2,
   "metadata": {},
   "outputs": [
    {
     "ename": "ModuleNotFoundError",
     "evalue": "No module named 'sensitivity'",
     "output_type": "error",
     "traceback": [
      "\u001b[0;31m---------------------------------------------------------------------------\u001b[0m",
      "\u001b[0;31mModuleNotFoundError\u001b[0m                       Traceback (most recent call last)",
      "\u001b[1;32m/home/hpcsap/Numrical_method/assignment/simulation.ipynb Cell 1\u001b[0m line \u001b[0;36m3\n\u001b[1;32m      <a href='vscode-notebook-cell:/home/hpcsap/Numrical_method/assignment/simulation.ipynb#W0sZmlsZQ%3D%3D?line=0'>1</a>\u001b[0m \u001b[39mimport\u001b[39;00m \u001b[39mnumpy\u001b[39;00m \u001b[39mas\u001b[39;00m \u001b[39mnp\u001b[39;00m\n\u001b[1;32m      <a href='vscode-notebook-cell:/home/hpcsap/Numrical_method/assignment/simulation.ipynb#W0sZmlsZQ%3D%3D?line=1'>2</a>\u001b[0m \u001b[39mimport\u001b[39;00m \u001b[39mmath\u001b[39;00m\n\u001b[0;32m----> <a href='vscode-notebook-cell:/home/hpcsap/Numrical_method/assignment/simulation.ipynb#W0sZmlsZQ%3D%3D?line=2'>3</a>\u001b[0m \u001b[39mfrom\u001b[39;00m \u001b[39msensitivity\u001b[39;00m \u001b[39mimport\u001b[39;00m SensitivityAnalyzer\n\u001b[1;32m      <a href='vscode-notebook-cell:/home/hpcsap/Numrical_method/assignment/simulation.ipynb#W0sZmlsZQ%3D%3D?line=3'>4</a>\u001b[0m \u001b[39mdef\u001b[39;00m \u001b[39mmy_func\u001b[39m(x_1, x_2,x_3):\n\u001b[1;32m      <a href='vscode-notebook-cell:/home/hpcsap/Numrical_method/assignment/simulation.ipynb#W0sZmlsZQ%3D%3D?line=4'>5</a>\u001b[0m     \u001b[39mreturn\u001b[39;00m math\u001b[39m.\u001b[39mlog(x_1\u001b[39m/\u001b[39m x_2 \u001b[39m+\u001b[39m x_3)\n",
      "\u001b[0;31mModuleNotFoundError\u001b[0m: No module named 'sensitivity'"
     ]
    }
   ],
   "source": [
    "import numpy as np\n",
    "import math\n",
    "from sensitivity import SensitivityAnalyzer\n",
    "def my_func(x_1, x_2,x_3):\n",
    "    return math.log(x_1/ x_2 + x_3)\n",
    "x_1=np.arange(10, 100, 10)\n",
    "x_2=np.arange(1, 10, 1)\n",
    "x_3=np.arange(1, 10, 1)\n",
    "sa_dict = {'x_1':x_1.tolist(),'x_2':x_2.tolist(),'x_3':x_3.tolist()}\n",
    "sa_model = SensitivityAnalyzer(sa_dict, my_func)\n",
    "plot = sa_model.plot()\n",
    "styled_df = sa_model.styled_dfs()\n"
   ]
  }
 ],
 "metadata": {
  "kernelspec": {
   "display_name": "Python 3",
   "language": "python",
   "name": "python3"
  },
  "language_info": {
   "codemirror_mode": {
    "name": "ipython",
    "version": 3
   },
   "file_extension": ".py",
   "mimetype": "text/x-python",
   "name": "python",
   "nbconvert_exporter": "python",
   "pygments_lexer": "ipython3",
   "version": "3.11.4"
  }
 },
 "nbformat": 4,
 "nbformat_minor": 2
}
